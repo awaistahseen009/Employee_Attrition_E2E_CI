{
 "cells": [
  {
   "cell_type": "markdown",
   "id": "e0e969e6",
   "metadata": {},
   "source": [
    "# Employee Retention Project\n",
    "\n",
    "## Client Dialogue\n",
    "\n",
    "**Client:**\n",
    "\"Hey, we're grappling with employee retention challenges. We've got this extraordinary dataset with employee details. Can we turn this data into a superhero solution?\"\n",
    "\n",
    "**Data Scientist:**\n",
    "\"Absolutely! Buckle up! We're on a mission to build a machine learning marvel that predicts employee churn. Imagine a tool that considers 'satisfaction_level', 'last_evaluation', 'number_project', 'average_monthly_hours', 'time_spend_company', 'Work_accident', 'promotion_last_5years', 'salary', and 'left'. This tool is your secret weapon to proactively identify and retain invaluable talent. Ready for this epic journey?\"\n",
    "\n",
    "**Client:**\n",
    "\"Absolutely! That's exactly what we need. Let's make sure it's not just a project; it's an adventure!\"\n",
    "\n",
    "**Data Scientist:**\n",
    "\"Fantastic! We're crafting a predictive masterpiece using the employee dataset to forecast churn. Imagine a tool that considers 'satisfaction_level', 'last_evaluation', 'number_project', 'average_monthly_hours', 'time_spend_company', 'Work_accident', 'promotion_last_5years', 'salary', and 'left'. This is more than a tool; it's your compass, ensuring a stable, satisfied, and triumphant workforce. How does that sound?\"\n",
    "\n",
    "## Problem Statement\n",
    "\n",
    "### Overview\n",
    "This dataset is a treasure trove of employee information, featuring key attributes like 'satisfaction_level', 'last_evaluation', 'number_project', 'average_monthly_hours', 'time_spend_company', 'Work_accident', 'promotion_last_5years', 'salary', and 'left'. Our mission is to revolutionize employee retention within the company using the power of data.\n",
    "\n",
    "### Objective\n",
    "We are on a quest to craft a cutting-edge machine learning model that foretells employee churn based on the provided features. This model will be our beacon, guiding HR professionals and company management to proactively identify and retain invaluable talent.\n",
    "\n",
    "### Features\n",
    "- 'satisfaction_level'\n",
    "- 'last_evaluation'\n",
    "- 'number_project'\n",
    "- 'average_monthly_hours'\n",
    "- 'time_spend_company'\n",
    "- 'Work_accident'\n",
    "- 'promotion_last_5years'\n",
    "- 'salary'\n",
    "- 'left'\n",
    "\n",
    "### Expected Outcome\n",
    "Picture this: a predictive tool that empowers HR professionals with a crystal ball, foreseeing employee churn. This tool is the linchpin for proactive measures, ensuring a stable, satisfied, and flourishing workforce.\n",
    "\n",
    "### Getting Started\n",
    "Embark on this thrilling journey by diving into the dataset. Collaborate with us in crafting a masterpiece – a concise, actionable tool that elevates employee retention strategies to unprecedented heights.\n",
    "\n",
    "## MLOps and Monitoring Details\n",
    "\n",
    "**Client:**\n",
    "\"What happens when we want to decommission the model? How do we ensure it's always working optimally?\"\n",
    "\n",
    "**Data Scientist:**\n",
    "\"Great question! When you decide it's time to decommission the model or make updates, we can seamlessly handle that. In the background, we implement Continuous Integration and Continuous Deployment (CI/CD) practices. It's like having an automated system that ensures any changes are smoothly integrated and deployed without disrupting your operations. Think of it as an ever-vigilant assistant that keeps the model up-to-date effortlessly.\"\n",
    "\n",
    "**Client:**\n",
    "\"And how do we monitor its performance over time?\"\n",
    "\n",
    "**Data Scientist:**\n",
    "\"Excellent point! We implement monitoring tools that keep an eye on the model's performance in real-time. It's akin to having a digital health tracker for your model. If it ever shows signs of underperformance or drift, we receive alerts and can swiftly address any issues before they impact your decisions. It's like having a guardian angel ensuring the model stays at its peak performance, always.\""
   ]
  },
  {
   "cell_type": "code",
   "execution_count": 1,
   "id": "ba4d3fd4",
   "metadata": {},
   "outputs": [],
   "source": [
    "import pandas as pd\n",
    "import numpy as np\n",
    "import seaborn as sns"
   ]
  },
  {
   "cell_type": "markdown",
   "id": "cc10d30b",
   "metadata": {},
   "source": [
    "# Reading the Dataset"
   ]
  },
  {
   "cell_type": "code",
   "execution_count": 4,
   "id": "9e0b13f9",
   "metadata": {},
   "outputs": [],
   "source": [
    "df=pd.read_csv('employee_churn.csv')"
   ]
  },
  {
   "cell_type": "code",
   "execution_count": 5,
   "id": "1807d318",
   "metadata": {},
   "outputs": [
    {
     "data": {
      "text/html": [
       "<div>\n",
       "<style scoped>\n",
       "    .dataframe tbody tr th:only-of-type {\n",
       "        vertical-align: middle;\n",
       "    }\n",
       "\n",
       "    .dataframe tbody tr th {\n",
       "        vertical-align: top;\n",
       "    }\n",
       "\n",
       "    .dataframe thead th {\n",
       "        text-align: right;\n",
       "    }\n",
       "</style>\n",
       "<table border=\"1\" class=\"dataframe\">\n",
       "  <thead>\n",
       "    <tr style=\"text-align: right;\">\n",
       "      <th></th>\n",
       "      <th>empid</th>\n",
       "      <th>satisfaction_level</th>\n",
       "      <th>last_evaluation</th>\n",
       "      <th>number_project</th>\n",
       "      <th>average_montly_hours</th>\n",
       "      <th>time_spend_company</th>\n",
       "      <th>Work_accident</th>\n",
       "      <th>promotion_last_5years</th>\n",
       "      <th>salary</th>\n",
       "      <th>left</th>\n",
       "    </tr>\n",
       "  </thead>\n",
       "  <tbody>\n",
       "    <tr>\n",
       "      <th>0</th>\n",
       "      <td>1</td>\n",
       "      <td>0.38</td>\n",
       "      <td>0.53</td>\n",
       "      <td>2</td>\n",
       "      <td>157</td>\n",
       "      <td>3</td>\n",
       "      <td>0</td>\n",
       "      <td>0</td>\n",
       "      <td>low</td>\n",
       "      <td>1</td>\n",
       "    </tr>\n",
       "    <tr>\n",
       "      <th>1</th>\n",
       "      <td>2</td>\n",
       "      <td>0.80</td>\n",
       "      <td>0.86</td>\n",
       "      <td>5</td>\n",
       "      <td>262</td>\n",
       "      <td>6</td>\n",
       "      <td>0</td>\n",
       "      <td>0</td>\n",
       "      <td>medium</td>\n",
       "      <td>1</td>\n",
       "    </tr>\n",
       "    <tr>\n",
       "      <th>2</th>\n",
       "      <td>3</td>\n",
       "      <td>0.11</td>\n",
       "      <td>0.88</td>\n",
       "      <td>7</td>\n",
       "      <td>272</td>\n",
       "      <td>4</td>\n",
       "      <td>0</td>\n",
       "      <td>0</td>\n",
       "      <td>medium</td>\n",
       "      <td>1</td>\n",
       "    </tr>\n",
       "    <tr>\n",
       "      <th>3</th>\n",
       "      <td>4</td>\n",
       "      <td>0.72</td>\n",
       "      <td>0.87</td>\n",
       "      <td>5</td>\n",
       "      <td>223</td>\n",
       "      <td>5</td>\n",
       "      <td>0</td>\n",
       "      <td>0</td>\n",
       "      <td>low</td>\n",
       "      <td>1</td>\n",
       "    </tr>\n",
       "    <tr>\n",
       "      <th>4</th>\n",
       "      <td>5</td>\n",
       "      <td>0.37</td>\n",
       "      <td>0.52</td>\n",
       "      <td>2</td>\n",
       "      <td>159</td>\n",
       "      <td>3</td>\n",
       "      <td>0</td>\n",
       "      <td>0</td>\n",
       "      <td>low</td>\n",
       "      <td>1</td>\n",
       "    </tr>\n",
       "  </tbody>\n",
       "</table>\n",
       "</div>"
      ],
      "text/plain": [
       "   empid  satisfaction_level  last_evaluation  number_project  \\\n",
       "0      1                0.38             0.53               2   \n",
       "1      2                0.80             0.86               5   \n",
       "2      3                0.11             0.88               7   \n",
       "3      4                0.72             0.87               5   \n",
       "4      5                0.37             0.52               2   \n",
       "\n",
       "   average_montly_hours  time_spend_company  Work_accident  \\\n",
       "0                   157                   3              0   \n",
       "1                   262                   6              0   \n",
       "2                   272                   4              0   \n",
       "3                   223                   5              0   \n",
       "4                   159                   3              0   \n",
       "\n",
       "   promotion_last_5years  salary  left  \n",
       "0                      0     low     1  \n",
       "1                      0  medium     1  \n",
       "2                      0  medium     1  \n",
       "3                      0     low     1  \n",
       "4                      0     low     1  "
      ]
     },
     "execution_count": 5,
     "metadata": {},
     "output_type": "execute_result"
    }
   ],
   "source": [
    "df.head()"
   ]
  },
  {
   "cell_type": "code",
   "execution_count": 6,
   "id": "5f62c64e",
   "metadata": {},
   "outputs": [
    {
     "data": {
      "text/plain": [
       "Index(['empid', 'satisfaction_level', 'last_evaluation', 'number_project',\n",
       "       'average_montly_hours', 'time_spend_company', 'Work_accident',\n",
       "       'promotion_last_5years', 'salary', 'left'],\n",
       "      dtype='object')"
      ]
     },
     "execution_count": 6,
     "metadata": {},
     "output_type": "execute_result"
    }
   ],
   "source": [
    "df.columns"
   ]
  },
  {
   "cell_type": "markdown",
   "id": "f9478306",
   "metadata": {},
   "source": []
  }
 ],
 "metadata": {
  "kernelspec": {
   "display_name": "Python 3 (ipykernel)",
   "language": "python",
   "name": "python3"
  },
  "language_info": {
   "codemirror_mode": {
    "name": "ipython",
    "version": 3
   },
   "file_extension": ".py",
   "mimetype": "text/x-python",
   "name": "python",
   "nbconvert_exporter": "python",
   "pygments_lexer": "ipython3",
   "version": "3.10.9"
  }
 },
 "nbformat": 4,
 "nbformat_minor": 5
}
